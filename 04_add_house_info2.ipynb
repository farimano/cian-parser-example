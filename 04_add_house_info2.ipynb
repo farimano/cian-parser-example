{
 "cells": [
  {
   "cell_type": "markdown",
   "id": "f7e061b1-52fb-47e0-ade2-a9df0647e082",
   "metadata": {
    "tags": []
   },
   "source": [
    "# 0. Import, Loading"
   ]
  },
  {
   "cell_type": "code",
   "execution_count": 1,
   "id": "c1da9a40-b0ca-4629-9e82-9df855a534a8",
   "metadata": {},
   "outputs": [],
   "source": [
    "import pandas as pd\n",
    "import numpy as np"
   ]
  },
  {
   "cell_type": "code",
   "execution_count": 2,
   "id": "40c41a79-aa88-47f9-b0e0-f6ed9907ba39",
   "metadata": {},
   "outputs": [],
   "source": [
    "pd.set_option('display.max_columns', None)"
   ]
  },
  {
   "cell_type": "code",
   "execution_count": 3,
   "id": "47f31e6e-13c4-4944-9fb9-e317d0f5a8fd",
   "metadata": {},
   "outputs": [],
   "source": [
    "df = pd.read_csv('output/df_house_info_1.csv')"
   ]
  },
  {
   "cell_type": "code",
   "execution_count": 4,
   "id": "09d4850b-ded6-48d0-92e3-0a490184e84f",
   "metadata": {},
   "outputs": [],
   "source": [
    "second = pd.read_csv('features/export-reestrmkd-39-20221101.csv', sep=';')"
   ]
  },
  {
   "cell_type": "code",
   "execution_count": 5,
   "id": "78b463fd-229e-4a6d-9fd1-24c21f3107f9",
   "metadata": {},
   "outputs": [],
   "source": [
    "second_columns = [\n",
    "    'management_organization_id',\n",
    "    'built_year',\n",
    "    'exploitation_start_year',\n",
    "    'project_type',\n",
    "    'house_type',\n",
    "    'is_alarm',\n",
    "    'method_of_forming_overhaul_fund',\n",
    "    'floor_count_max',\n",
    "    'floor_count_min',\n",
    "    'entrance_count',\n",
    "    'elevators_count',\n",
    "    'energy_efficiency',\n",
    "    'quarters_count',\n",
    "    'living_quarters_count',\n",
    "    'unliving_quarters_count',\n",
    "    'area_total',\n",
    "    'area_residential',\n",
    "    'area_non_residential',\n",
    "    'area_common_property',\n",
    "    'area_land',\n",
    "    'parking_square',\n",
    "    'playground',\n",
    "    'sportsground',\n",
    "    'other_beautification',\n",
    "    'foundation_type',\n",
    "    'floor_type',\n",
    "    'wall_material',\n",
    "    'basement_area',\n",
    "    'chute_type',\n",
    "    'chute_count',\n",
    "    'electrical_type',\n",
    "    'electrical_entries_count',\n",
    "    'heating_type',\n",
    "    'hot_water_type',\n",
    "    'cold_water_type',\n",
    "    'sewerage_type',\n",
    "    'sewerage_cesspools_volume',\n",
    "    'gas_type',\n",
    "    'ventilation_type',\n",
    "    'firefighting_type',\n",
    "    'drainage_type'\n",
    "]"
   ]
  },
  {
   "cell_type": "code",
   "execution_count": 6,
   "id": "d06c59de-a1e7-4ac2-ad6a-cbef1450aeb8",
   "metadata": {},
   "outputs": [],
   "source": [
    "address_cols = [\n",
    "    'formalname_city',\n",
    "    'formalname_street',\n",
    "    'house_number',\n",
    "    'building',\n",
    "    'block',\n",
    "    'letter',\n",
    "]"
   ]
  },
  {
   "cell_type": "markdown",
   "id": "cb3c7b67-da67-41db-ac91-5a3db38402f4",
   "metadata": {},
   "source": [
    "# 1. Street preprocessing"
   ]
  },
  {
   "cell_type": "code",
   "execution_count": 7,
   "id": "45dc3f01-429c-45f9-9d99-6e1818fd08af",
   "metadata": {},
   "outputs": [],
   "source": [
    "df['prep_street'] = df['street'].map(\n",
    "    lambda x: \" \".join(\n",
    "        x.lower()\n",
    "        .replace('улица', '')\n",
    "        .replace('аллея', '')\n",
    "        .replace('переулок', '')\n",
    "        .replace('проспект', '')\n",
    "        .replace('проезд', '')\n",
    "        .replace('бульвар', '')\n",
    "        .replace('шоссе', '')\n",
    "        .replace('площадь', '')\n",
    "        .replace('набережная', '')\n",
    "        .replace('тупик', '')\n",
    "        .split()\n",
    "    )\n",
    "    if not pd.isna(x)\n",
    "    else x\n",
    ")"
   ]
  },
  {
   "cell_type": "code",
   "execution_count": 8,
   "id": "3e693d7f-e151-4da5-a1d4-15b95b85b559",
   "metadata": {},
   "outputs": [],
   "source": [
    "second['formalname_street'] = second['formalname_street'].map(\n",
    "    lambda x: \" \".join(\n",
    "        x.lower()\n",
    "        .replace('улица', '')\n",
    "        .replace('аллея', '')\n",
    "        .replace('переулок', '')\n",
    "        .replace('проспект', '')\n",
    "        .replace('проезд', '')\n",
    "        .replace('бульвар', '')\n",
    "        .replace('шоссе', '')\n",
    "        .replace('площадь', '')\n",
    "        .replace('набережная', '')\n",
    "        .replace('тупик', '')\n",
    "        .split()\n",
    "    )\n",
    "    if not pd.isna(x)\n",
    "    else x\n",
    ")"
   ]
  },
  {
   "cell_type": "code",
   "execution_count": 9,
   "id": "926bcd77-97cc-49e3-95c3-0133d4c4ff03",
   "metadata": {},
   "outputs": [],
   "source": [
    "second['formalname_street'] = second['formalname_street'].map(\n",
    "    lambda x: \" \".join(sorted(x.split(), key=lambda y: not('-' in y)))\n",
    "    if not pd.isna(x)\n",
    "    else x\n",
    ")"
   ]
  },
  {
   "cell_type": "code",
   "execution_count": 10,
   "id": "2d78b02c-4bc6-444a-816c-c05ec621fcac",
   "metadata": {},
   "outputs": [],
   "source": [
    "street_maps = {\n",
    "    'туруханская': '1-й туруханский',\n",
    "    '3-я большая окружная': '3-я окружная',\n",
    "    '4-я большая окружная': '4-я окружная',\n",
    "    '9 апреля': '9-го апреля',\n",
    "    'а.суворова': 'александра суворова',\n",
    "    'а.толстого': 'алексея толстого',\n",
    "    'б.хмельницкого': 'богдана хмельницкого',\n",
    "    'в.гакуна': 'виктора гакуна',\n",
    "    'в.денисова': 'виктора денисова',\n",
    "    'в.талалихина': 'виктора талалихина',\n",
    "    'г.димитрова': 'георгия димитрова',\n",
    "    'о.кошевого': 'олега кошевого',\n",
    "    'в.фермора': 'виллима фермора',\n",
    "    'д.донского': 'дмитрия донского',\n",
    "    'и.земнухова': 'ивана земнухова',\n",
    "    'к.цеткин': 'клары цеткин',\n",
    "    'л.голикова': 'лени голикова',\n",
    "    'л.толстого': 'льва толстого',\n",
    "    'м.светлова': 'михаила светлова',\n",
    "    'п.морозова': 'павлика морозова',\n",
    "    'р.люксембург': 'розы люксембург',\n",
    "    'с.тюленина': 'сергея тюленина',\n",
    "    'с.разина': 'степана разина',\n",
    "    'с.халтурина': 'степана халтурина',\n",
    "    'ф.воейкова': 'федора воейкова',\n",
    "    'ф.лефорта': 'франца лефорта',\n",
    "    'ю.гагарина': 'юрия гагарина',\n",
    "    'ю.маточкина': 'юрия маточкина',\n",
    "    'у.громовой': 'громовой',\n",
    "    'д.давыдова': 'давыдова',\n",
    "    'генерал-лейтенанта захарова': 'захарова',\n",
    "    'л.иванихиной': 'иванихиной',\n",
    "    'л.шевцовой': 'шевцовой',\n",
    "    'з.космодемьянской': 'космодемьянской',\n",
    "    'к.назаровой': 'назаровой',\n",
    "}"
   ]
  },
  {
   "cell_type": "code",
   "execution_count": 11,
   "id": "9ac7f042-eb7c-4429-a70c-40c6cc6758e3",
   "metadata": {},
   "outputs": [],
   "source": [
    "second['formalname_street'] = second['formalname_street'].map(\n",
    "    lambda x: street_maps.get(x, x)\n",
    ")"
   ]
  },
  {
   "cell_type": "code",
   "execution_count": 12,
   "id": "6a709bec-2790-44a7-b167-958d92514b04",
   "metadata": {},
   "outputs": [],
   "source": [
    "df['prep_street'] = df['prep_street'].map(\n",
    "    lambda x: street_maps.get(x, x)\n",
    ")"
   ]
  },
  {
   "cell_type": "code",
   "execution_count": 13,
   "id": "16a68138-fdcf-4d3d-ba52-57b42eefeaf1",
   "metadata": {},
   "outputs": [
    {
     "data": {
      "text/plain": [
       "40"
      ]
     },
     "execution_count": 13,
     "metadata": {},
     "output_type": "execute_result"
    }
   ],
   "source": [
    "set(df['prep_street'].unique()).difference(set(second['formalname_street'])).__len__()"
   ]
  },
  {
   "cell_type": "markdown",
   "id": "0e1ff435-3eca-46fc-b14d-cd6ea843cbcb",
   "metadata": {
    "tags": []
   },
   "source": [
    "# 2. Join"
   ]
  },
  {
   "cell_type": "code",
   "execution_count": 14,
   "id": "dced92bc-26a3-410f-b636-2e8607402e79",
   "metadata": {},
   "outputs": [],
   "source": [
    "STR_DIGITS = [str(i) for i in range(10)]"
   ]
  },
  {
   "cell_type": "code",
   "execution_count": 15,
   "id": "5d4faa92-90ef-4496-b04c-642638818572",
   "metadata": {},
   "outputs": [],
   "source": [
    "def filter_number(string):\n",
    "    str_number = \"\".join(filter(lambda x: x in STR_DIGITS, string.split('/')[0]))\n",
    "    if str_number:\n",
    "        return int(str_number)\n",
    "    else:\n",
    "        return None\n",
    "\n",
    "def filter_number_list(string):\n",
    "    return list(filter(lambda x: not(x is None), map(filter_number, string.replace('_', '-').split('-'))))"
   ]
  },
  {
   "cell_type": "code",
   "execution_count": 16,
   "id": "3344ad05-b44e-4568-a14c-154d53e63035",
   "metadata": {},
   "outputs": [],
   "source": [
    "def get_second_info(row):\n",
    "    city, settlement, street, house_number = row[['city', 'settlement', 'prep_street', 'house_number']]\n",
    "    \n",
    "    street_records = second[(second['formalname_city'].isin([city, settlement]))&(second['formalname_street']==street)]\n",
    "    second_house_number = street_records['house_number'].unique().tolist()\n",
    "    \n",
    "    n_rows = street_records.shape[0]\n",
    "    \n",
    "    if not n_rows:\n",
    "        return\n",
    "    \n",
    "    if pd.isna(house_number):\n",
    "        second_info = (\n",
    "            street_records[second_columns]\n",
    "            .apply(func=lambda x: x.tolist, axis=0)\n",
    "            .map(lambda x: x())\n",
    "        )\n",
    "    elif house_number in second_house_number:\n",
    "        second_info = (\n",
    "            street_records[street_records['house_number']==house_number][second_columns]\n",
    "            .apply(func=lambda x: x.tolist, axis=0)\n",
    "            .map(lambda x: x())\n",
    "        )\n",
    "    else:\n",
    "        house_number = filter_number(house_number)\n",
    "        map_numbers = list(map(\n",
    "            filter_number_list, \n",
    "            second_house_number\n",
    "        ))\n",
    "        sort_map_numbers = sorted(enumerate(map_numbers), key=lambda x: min(x[1]) if x[1] else float('inf'))\n",
    "        \n",
    "        sim_idx = sort_map_numbers[-1][0]\n",
    "        prev_idx = sort_map_numbers[0][0]\n",
    "        for num, map_nums in sort_map_numbers:\n",
    "            if min(map_nums) <= house_number <= max(map_nums):\n",
    "                sim_idx = num\n",
    "                break\n",
    "            elif min(map_nums) > house_number:\n",
    "                sim_idx = prev_idx\n",
    "                break\n",
    "            prev_idx = num\n",
    "        house_number = second_house_number[prev_idx]\n",
    "        second_info = (\n",
    "            street_records[street_records['house_number']==house_number][second_columns]\n",
    "            .apply(func=lambda x: x.tolist, axis=0)\n",
    "            .map(lambda x: x())\n",
    "        )\n",
    "\n",
    "    return second_info"
   ]
  },
  {
   "cell_type": "code",
   "execution_count": 17,
   "id": "1829e964-0c70-4423-a3ca-2da641e8f3c2",
   "metadata": {},
   "outputs": [],
   "source": [
    "second_info = df.apply(\n",
    "    get_second_info,\n",
    "    axis=1\n",
    ")\n",
    "second_info.columns = [f\"second_info_{i}\" for i in second_info.columns]"
   ]
  },
  {
   "cell_type": "code",
   "execution_count": 18,
   "id": "6421f757-eecb-4167-a466-fee6a53220f0",
   "metadata": {
    "tags": []
   },
   "outputs": [],
   "source": [
    "df_second_info = df.join(second_info)"
   ]
  },
  {
   "cell_type": "code",
   "execution_count": 19,
   "id": "a78c7e8b-c77a-4d15-a414-ca160e15660d",
   "metadata": {},
   "outputs": [
    {
     "data": {
      "text/plain": [
       "new_object\n",
       "False    0.138702\n",
       "True     0.585780\n",
       "Name: second_info_built_year, dtype: float64"
      ]
     },
     "execution_count": 19,
     "metadata": {},
     "output_type": "execute_result"
    }
   ],
   "source": [
    "df_second_info.groupby('new_object')['second_info_built_year'].apply(lambda x: x.isna().mean())"
   ]
  },
  {
   "cell_type": "code",
   "execution_count": 20,
   "id": "b5d00f44-cac4-4222-b457-a105a245e1df",
   "metadata": {},
   "outputs": [],
   "source": [
    "df_second_info.to_csv('output/df_house_info_2.csv', index=False)"
   ]
  }
 ],
 "metadata": {
  "kernelspec": {
   "display_name": "Python 3 (ipykernel)",
   "language": "python",
   "name": "python3"
  },
  "language_info": {
   "codemirror_mode": {
    "name": "ipython",
    "version": 3
   },
   "file_extension": ".py",
   "mimetype": "text/x-python",
   "name": "python",
   "nbconvert_exporter": "python",
   "pygments_lexer": "ipython3",
   "version": "3.8.5"
  }
 },
 "nbformat": 4,
 "nbformat_minor": 5
}
