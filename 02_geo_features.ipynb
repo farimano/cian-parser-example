{
 "cells": [
  {
   "cell_type": "code",
   "execution_count": 1,
   "id": "b5f268b6-f05f-4b56-9c9c-03980ceeac94",
   "metadata": {},
   "outputs": [],
   "source": [
    "import datetime\n",
    "\n",
    "import pandas as pd\n",
    "import numpy as np\n",
    "from functools import reduce\n",
    "\n",
    "import preprocessing as prep\n",
    "\n",
    "import geopy\n",
    "from geopy.distance import geodesic as GD\n",
    "import tqdm\n",
    "from pathlib import Path\n",
    "\n",
    "import re"
   ]
  },
  {
   "cell_type": "code",
   "execution_count": null,
   "id": "7d758a41-7807-441b-b324-c0a245eb15c1",
   "metadata": {},
   "outputs": [],
   "source": [
    "df = pd.read_csv('output/parsed_data.csv')"
   ]
  },
  {
   "cell_type": "code",
   "execution_count": 3,
   "id": "6e4c133d-9b8e-4e10-b150-0b2a56cd27a9",
   "metadata": {},
   "outputs": [],
   "source": [
    "pd.set_option('display.max_columns', None)"
   ]
  },
  {
   "cell_type": "markdown",
   "id": "684a1f60-26b5-413c-880f-7efd7c49c632",
   "metadata": {},
   "source": [
    "# 1. Latitude and Longitude"
   ]
  },
  {
   "cell_type": "code",
   "execution_count": 4,
   "id": "f1bff17e-216f-416b-b37e-119ae0727060",
   "metadata": {},
   "outputs": [],
   "source": [
    "def street_preprocessing(street: str):\n",
    "    if pd.isna(street):\n",
    "        return street\n",
    "    \n",
    "    street = (\n",
    "        street\n",
    "        .replace(' Генерал-фельдмаршала', \"\")\n",
    "        .replace('бульвар Ф. Лефорта', \"бульвар Франца Лефорта\")\n",
    "        .replace('бульвар Рижский', 'Рижский бульвар')\n",
    "        .replace('бульвар Борисовский', 'Борисовский бульвар')\n",
    "        .replace('улица 9 Апреля', 'улица 9-го Апреля')\n",
    "        .replace('улица Летний проезд', 'Летний проезд')\n",
    "        .replace('Московское кв-л', 'Московский район, Московское')\n",
    "        .replace('улица А. Толстого', 'улица Алексея Толстого')\n",
    "        .replace(\"улица Воскресенская\", \"Воскресенская улица\")\n",
    "        .replace(\"улица Д. Давыдова\", \"улица Давыдова\")\n",
    "        .replace(\"улица Флагманская\", \"Флагманская улица\")\n",
    "    )\n",
    "    \n",
    "    for i in range(10):\n",
    "        if (f\"{i}-\" in street) and (street.split()[0] in [\"улица\", \"проезд\", \"переулок\"]):\n",
    "            street = \" \".join(street.split()[1:] + street.split()[:1])\n",
    "    street = street.replace(\"9-го Апреля улица\", 'улица 9-го Апреля')\n",
    "    return street\n",
    "\n",
    "def house_number_preprocessing(row: pd.Series):\n",
    "    num = row['house_number']\n",
    "    if pd.isna(num):\n",
    "        return pd.Series({'house_number': num})\n",
    "    num_split = [j for i in num.rsplit('к', 1) for j in i.split('Дс')]\n",
    "    if len(num_split) == 1:\n",
    "        return pd.Series({'house_number': num})\n",
    "    else:\n",
    "        return pd.Series({'house_number': num_split[0], 'corpus': num_split[1]})\n",
    "    \n",
    "def settlement_preprocessing(setl: str):\n",
    "    if pd.isna(setl):\n",
    "        return setl\n",
    "    \n",
    "    setl = (\n",
    "        setl\n",
    "        .replace(' пос.', '')\n",
    "        .replace('пос. ', '')\n",
    "        .replace('Ново-Дорожный', 'Новодорожный')\n",
    "    )\n",
    "    \n",
    "    setl = re.sub(r' \\([^)]*\\)', '', setl)\n",
    "    \n",
    "    return setl"
   ]
  },
  {
   "cell_type": "code",
   "execution_count": 5,
   "id": "f2c018db-f984-4a18-ab0b-160e059894a4",
   "metadata": {},
   "outputs": [],
   "source": [
    "df['settlement'] = df['settlement'].map(settlement_preprocessing)\n",
    "df['microdistrict'] = df['microdistrict'].map(lambda x: x.replace(' мкр', '') if not pd.isna(x) else x)\n",
    "df['district'] = df['district'].map(lambda x: x.replace('р-н ', '') if not pd.isna(x) else x)\n",
    "df['street'] = df['street'].map(street_preprocessing)\n",
    "df = df.drop('house_number', axis=1).join(df.apply(house_number_preprocessing, axis=1))"
   ]
  },
  {
   "cell_type": "code",
   "execution_count": 6,
   "id": "5e4cc7f4-2068-4df6-af4b-a911ccc92bd2",
   "metadata": {},
   "outputs": [],
   "source": [
    "def make_parsable_address(row: pd.Series) -> str:\n",
    "    address_list = ['Россия']\n",
    "    address_list.append(row['region'])\n",
    "    address_list.append(row['okrug'])\n",
    "    address_list.append(row['city'])\n",
    "    address_list.append(row['district'])\n",
    "    \n",
    "    redundant_setls = ['Чайковского', 'Лермонтовский', 'Воздушный', 'Андреевский Посад']\n",
    "    \n",
    "    if pd.isna(row['city']) or (not(row['settlement'] in redundant_setls)):\n",
    "        address_list.append(row['settlement'])\n",
    "    \n",
    "    \n",
    "    skip_setls = [\n",
    "        'Прибрежное',\n",
    "        'Большое Исаково',\n",
    "        'Васильково',\n",
    "        'Малое Васильково',\n",
    "        'Ласкино',\n",
    "        'Ново-Дорожный',\n",
    "        'Дружный',\n",
    "        'Колосовка',\n",
    "        'Отважное',\n",
    "        'Переславское',\n",
    "    ]\n",
    "    \n",
    "    unknown_streets = {\n",
    "        'улица Поленова' : \"Декоративная улица, 19\",\n",
    "        'улица Крейсерская': \"улица Понартская, 7\",\n",
    "    }\n",
    "    \n",
    "    if not (row['settlement'] in skip_setls):\n",
    "        if pd.isna([row['street']]):\n",
    "            address_list.append(row['microdistrict'])\n",
    "            \n",
    "        street = row['street']\n",
    "        \n",
    "        if not (street in unknown_streets):      \n",
    "            address_list.append(row['street'])\n",
    "\n",
    "            if not (pd.isna(row['street'])):\n",
    "                address_list.append(row['house_number'])\n",
    "        else:\n",
    "            address_list.append(unknown_streets[street])\n",
    "    \n",
    "    address = \", \".join(filter(lambda x: not pd.isna(x), address_list))\n",
    "    \n",
    "    address = (\n",
    "        address\n",
    "        .replace(\"Гурьевский городской округ\", \"Гурьевский муниципальный округ\")\n",
    "        .replace(\"Калининград, Ленинградский, Старокаменная улица\", \"Старокаменная улица\")\n",
    "    )\n",
    "    \n",
    "    if 'Виталия Мариенко' in address:\n",
    "        address = address.rsplit(', ', 2)[0] + \", улица Артиллерийская, 87а\"\n",
    "    elif 'Рижский бульвар' in address:\n",
    "        if address.rsplit(', ', 1)[-1] == 'Рижский бульвар':\n",
    "            address = address + \", 2\"\n",
    "    elif 'улица Олега Кошевого' in address:\n",
    "        oleg_dict = {\"1\":\"3\", \"56А\":\"58\"}\n",
    "        if address.split(', ')[-1] in oleg_dict:\n",
    "            address = address.rsplit(', ', 1)[0] + ', ' + oleg_dict[address.split(', ')[-1]]\n",
    "    elif \"Центральный, улица Жасминовая\" in address:\n",
    "        address = 'Россия, Калининградская область, Гурьевский муниципальный округ, ДНТ Лотос'\n",
    "    return address"
   ]
  },
  {
   "cell_type": "code",
   "execution_count": 7,
   "id": "8b90f66d-ea99-46f5-a7f7-6523686a1b46",
   "metadata": {},
   "outputs": [],
   "source": [
    "df['parsable_address'] = df.apply(make_parsable_address, axis=1)"
   ]
  },
  {
   "cell_type": "code",
   "execution_count": 8,
   "id": "5d41da02-6f01-4a5a-97b2-df034207ccd2",
   "metadata": {},
   "outputs": [],
   "source": [
    "loc_address = pd.read_csv('data/loc_address.csv')\n",
    "outer = df[['parsable_address']].merge(loc_address[['parsable_address']], how='left', on='parsable_address', indicator=True)\n",
    "new_addresses = outer[outer['_merge'] == 'left_only'][['parsable_address']].drop_duplicates().values[:, 0].tolist()"
   ]
  },
  {
   "cell_type": "code",
   "execution_count": 9,
   "id": "f4a30d51-8b29-4795-ab93-eba89f8b003d",
   "metadata": {},
   "outputs": [
    {
     "name": "stderr",
     "output_type": "stream",
     "text": [
      "0it [00:00, ?it/s]\n"
     ]
    }
   ],
   "source": [
    "loc_dict = {}\n",
    "locator = geopy.Nominatim(user_agent=\"myGeocoder\")\n",
    "for address in tqdm.tqdm(new_addresses):\n",
    "    location = locator.geocode(address)\n",
    "    loc_dict[address] = location"
   ]
  },
  {
   "cell_type": "code",
   "execution_count": 10,
   "id": "f2be3a1a-9759-419f-8c38-7ae284a8d0b3",
   "metadata": {},
   "outputs": [],
   "source": [
    "def preprocess_locator_info(row: pd.Series):\n",
    "    loc = row['loc']\n",
    "    if loc:\n",
    "        loc_series = pd.Series(loc.raw)\n",
    "        loc_series.index = [f\"locator_{i}\" for i in loc_series.index]\n",
    "        return loc_series\n",
    "    else:\n",
    "        return pd.Series({\"f_locator_lat\": None})"
   ]
  },
  {
   "cell_type": "code",
   "execution_count": 11,
   "id": "4a916d46-f0fc-4776-a764-bac6a7b08e9f",
   "metadata": {},
   "outputs": [],
   "source": [
    "Path(\"./data\").mkdir(exist_ok=True)\n",
    "if loc_dict:\n",
    "    new_loc_address = pd.Series(loc_dict).reset_index()\n",
    "    new_loc_address.columns = ['parsable_address', 'loc']\n",
    "    new_loc_address = new_loc_address.drop('loc', axis=1).join(new_loc_address.apply(preprocess_locator_info, axis=1))\n",
    "    loc_address = pd.concat([loc_address, new_loc_address], axis=0).reset_index(drop=True)\n",
    "    \n",
    "    poss_inds = {f'{i:06d}' for i in range(1000000)}\n",
    "    loc_address['post_index'] = loc_address['locator_display_name'].map(\n",
    "        lambda x: [i for i in x.split(', ') if i in poss_inds] if not pd.isna(x) else x\n",
    "    ).map(\n",
    "        lambda x: x[0] if x and (not pd.isna(x)) else np.nan\n",
    "    )\n",
    "    \n",
    "    loc_address.to_csv('data/loc_address.csv', index=False)"
   ]
  },
  {
   "cell_type": "code",
   "execution_count": 12,
   "id": "cd8e32b3-1ca8-4db0-af02-00bb350eae6b",
   "metadata": {},
   "outputs": [
    {
     "data": {
      "text/plain": [
       "[]"
      ]
     },
     "execution_count": 12,
     "metadata": {},
     "output_type": "execute_result"
    }
   ],
   "source": [
    "loc_address = pd.read_csv('data/loc_address.csv')\n",
    "cur_adresses = df[['parsable_address']].drop_duplicates().merge(loc_address, on='parsable_address', how='left')\n",
    "cur_adresses[cur_adresses['locator_lat'].isna()]['parsable_address'].tolist()"
   ]
  },
  {
   "cell_type": "code",
   "execution_count": 13,
   "id": "ad044f45-0069-47af-9e29-0a875aaccc12",
   "metadata": {},
   "outputs": [],
   "source": [
    "loc_feats = [\n",
    "    'parsable_address',\n",
    "    # 'locator_boundingbox',\n",
    "    'locator_class',\n",
    "    # 'locator_display_name',\n",
    "    'locator_importance',\n",
    "    'locator_lat',\n",
    "    'locator_lon',\n",
    "    # 'locator_osm_id',\n",
    "    'locator_osm_type',\n",
    "    # 'locator_place_id',\n",
    "    'locator_type',\n",
    "    'post_index',\n",
    "]"
   ]
  },
  {
   "cell_type": "code",
   "execution_count": 14,
   "id": "7fa125c4-2add-4538-94db-e04770d316d3",
   "metadata": {},
   "outputs": [],
   "source": [
    "df = df.merge(\n",
    "    loc_address[loc_feats].rename(columns={'locator_lat': 'lat', 'locator_lon': 'lon'}),\n",
    "    how='left',\n",
    "    on='parsable_address'\n",
    ")"
   ]
  },
  {
   "cell_type": "code",
   "execution_count": 15,
   "id": "7707ced4-0c95-48a4-841d-b5ec5caf664f",
   "metadata": {},
   "outputs": [],
   "source": [
    "import plotly.io as pio\n",
    "import plotly.express as px\n",
    "pio.renderers.default = 'iframe'"
   ]
  },
  {
   "cell_type": "code",
   "execution_count": null,
   "id": "4d49b26b-4342-4b48-aa73-a765c020862f",
   "metadata": {},
   "outputs": [],
   "source": [
    "fig = px.scatter_mapbox(\n",
    "    df, \n",
    "    title = \"Kaliningrad\", \n",
    "    lat = \"lat\", \n",
    "    lon = \"lon\", \n",
    "    hover_data = [\n",
    "        'new_object',\n",
    "        'price_per_metr',\n",
    "        'area',\n",
    "        'address'\n",
    "    ],\n",
    "    color_continuous_scale=px.colors.sequential.Plotly3_r,\n",
    "    color = df['price_per_metr'].fillna(600000),\n",
    "    size = 'area',\n",
    "    range_color = [60000, 300000],\n",
    "    zoom = 20, \n",
    "    height = 1000,\n",
    "    width = 1000,\n",
    "    )\n",
    "\n",
    "fig.update_layout(mapbox_style=\"open-street-map\")\n",
    "fig.update_layout(margin={\"r\":0,\"t\":0,\"l\":0,\"b\":0})\n",
    "fig.show()"
   ]
  },
  {
   "cell_type": "markdown",
   "id": "7c518a69-f30b-49a2-82ce-1e417712d5f8",
   "metadata": {},
   "source": [
    "#### the results can be seen in 02_geo_prices.html"
   ]
  },
  {
   "cell_type": "markdown",
   "id": "d474697f-403c-486b-82b9-9f1426ff06de",
   "metadata": {},
   "source": [
    "# 2. The distance to cities"
   ]
  },
  {
   "cell_type": "code",
   "execution_count": 17,
   "id": "e90c7cf8-c247-4e78-9459-74dd6fcdfe43",
   "metadata": {},
   "outputs": [],
   "source": [
    "cities = {\n",
    "    \"Калининград\": \"Kaliningrad\",\n",
    "    \"Зеленоградск\": \"Zelenogradsk\",\n",
    "    \"Светлогорск\": \"Svetlogorsk\",\n",
    "    \"Гурьевск\": \"Gurevsk\",\n",
    "    \"Балтийск\": \"Baltiisk\",\n",
    "}\n",
    "\n",
    "cities_dict = {}\n",
    "\n",
    "for city in cities:\n",
    "    loc = locator.geocode(f\"Россия, Калининградская область, {city}\")\n",
    "    cities_dict[cities[city]] = (loc.latitude, loc.longitude)"
   ]
  },
  {
   "cell_type": "code",
   "execution_count": 18,
   "id": "bc55e2b6-d18f-4f32-95de-cd5630646f3b",
   "metadata": {},
   "outputs": [],
   "source": [
    "cities_dict['Kaliningrad_center'] = (54.719889, 20.501692)"
   ]
  },
  {
   "cell_type": "code",
   "execution_count": 19,
   "id": "00e731eb-416d-47b3-9040-7b11baaf3a31",
   "metadata": {},
   "outputs": [],
   "source": [
    "cities_list = list(cities_dict)"
   ]
  },
  {
   "cell_type": "code",
   "execution_count": 20,
   "id": "5b0f8e1b-162d-46a8-a3fd-6206c37215b6",
   "metadata": {},
   "outputs": [],
   "source": [
    "df = df.join(pd.DataFrame([cities_dict for i in range(df.shape[0])]))"
   ]
  },
  {
   "cell_type": "code",
   "execution_count": 21,
   "id": "dc9dfb49-83d1-4e8f-8de3-607f804d9be0",
   "metadata": {},
   "outputs": [
    {
     "data": {
      "text/plain": [
       "{'Kaliningrad': (54.710128, 20.5105838),\n",
       " 'Zelenogradsk': (54.9600365, 20.4750188),\n",
       " 'Svetlogorsk': (54.9417552, 20.1550863),\n",
       " 'Gurevsk': (54.7745571, 20.6037041),\n",
       " 'Baltiisk': (54.6437214, 19.8941584),\n",
       " 'Kaliningrad_center': (54.719889, 20.501692)}"
      ]
     },
     "execution_count": 21,
     "metadata": {},
     "output_type": "execute_result"
    }
   ],
   "source": [
    "cities_dict"
   ]
  },
  {
   "cell_type": "code",
   "execution_count": 22,
   "id": "648397ba-fac7-4599-95e5-c2a1d7304d1b",
   "metadata": {},
   "outputs": [],
   "source": [
    "for city in cities_list:\n",
    "    df[city] = df[['lat', 'lon', city]].apply(lambda x: GD((x['lat'], x['lon']), x[city]).km, axis=1)"
   ]
  },
  {
   "cell_type": "markdown",
   "id": "88971ca7-06f2-46b4-b385-0716efc380f6",
   "metadata": {},
   "source": [
    "# 3. The distance to schools"
   ]
  },
  {
   "cell_type": "markdown",
   "id": "48d0c956-746d-4326-83de-a15fe838d22d",
   "metadata": {},
   "source": [
    "### Schools, parks and other datasets were prepared without automatization"
   ]
  },
  {
   "cell_type": "code",
   "execution_count": 23,
   "id": "6e1bde5a-fb50-4efe-b88d-847109a53729",
   "metadata": {},
   "outputs": [],
   "source": [
    "clean_schools = pd.read_csv('data/clean_schools.csv')"
   ]
  },
  {
   "cell_type": "code",
   "execution_count": 24,
   "id": "852f28e3-56a6-40c7-9bce-0db950352b0c",
   "metadata": {},
   "outputs": [],
   "source": [
    "clean_schools['loc'] = clean_schools.apply(lambda x: tuple(x[['lat', 'lon']]), axis=1)"
   ]
  },
  {
   "cell_type": "code",
   "execution_count": 25,
   "id": "2a09c31a-6bef-4844-85f0-8a71314a48c5",
   "metadata": {},
   "outputs": [],
   "source": [
    "def calculate_distances_to_school(row, top=3):\n",
    "    lat, lon = row['lat'], row['lon']\n",
    "    # dist_dict = {}\n",
    "    schools_list = []\n",
    "    for _, row in clean_schools.iterrows():\n",
    "        school_id = f'schhol_{row[\"id\"]}'\n",
    "        forma = row['forma']\n",
    "        tp = row['type']\n",
    "        dist = GD((lat, lon), row['loc']).km\n",
    "        schools_list.append((school_id, forma, tp, dist))\n",
    "    schools_list.sort(key=lambda x: x[3])\n",
    "    \n",
    "    top_nearest_schools = schools_list[:top]\n",
    "    \n",
    "    dist_dict = {}\n",
    "    for n, school in enumerate(top_nearest_schools):\n",
    "        dist_dict[f'school_{n}_id'] = school[0]\n",
    "        dist_dict[f'school_{n}_forma'] = school[1]\n",
    "        dist_dict[f'school_{n}_type'] = school[2]\n",
    "        dist_dict[f'school_{n}_dist'] = school[3]\n",
    "    \n",
    "    return pd.Series(dist_dict)"
   ]
  },
  {
   "cell_type": "code",
   "execution_count": 26,
   "id": "ba93efff-20c0-46d3-873f-fdc16f866a9c",
   "metadata": {},
   "outputs": [
    {
     "name": "stdout",
     "output_type": "stream",
     "text": [
      "CPU times: total: 13min 5s\n",
      "Wall time: 13min 7s\n"
     ]
    }
   ],
   "source": [
    "%%time\n",
    "schools_info = df.apply(calculate_distances_to_school, axis=1)"
   ]
  },
  {
   "cell_type": "code",
   "execution_count": 27,
   "id": "9e002e06-fa12-4856-b586-c4d7e906ecf8",
   "metadata": {},
   "outputs": [],
   "source": [
    "df = df.join(schools_info)"
   ]
  },
  {
   "cell_type": "markdown",
   "id": "b8bc738f-2a56-4ba8-920b-5e322e01ce06",
   "metadata": {},
   "source": [
    "# 4. The distance to parks, airports, railway stations"
   ]
  },
  {
   "cell_type": "code",
   "execution_count": 38,
   "id": "25565567-2ab8-4957-9849-81cd51fc73c5",
   "metadata": {},
   "outputs": [
    {
     "name": "stdout",
     "output_type": "stream",
     "text": [
      "CPU times: total: 1min 16s\n",
      "Wall time: 1min 16s\n"
     ]
    }
   ],
   "source": [
    "%%time\n",
    "for place in ['parks', 'stations', 'airports']:\n",
    "    df_place = pd.read_csv(f'data/{place}.csv')\n",
    "    df_place['loc'] = df_place.apply(lambda x: tuple(x[['lat', 'lon']]), axis=1)\n",
    "    for _, row in df_place.iterrows():\n",
    "        placename = row['name']\n",
    "        df[f\"{place}_{placename}\"] = df.apply(lambda x: GD((x['lat'], x['lon']), row['loc']).km, axis=1)"
   ]
  },
  {
   "cell_type": "code",
   "execution_count": 40,
   "id": "d2f0f4cd-e5de-4cbb-921f-fb4141707afe",
   "metadata": {},
   "outputs": [],
   "source": [
    "df.to_csv('output/geofeatures_df.csv', index=False)"
   ]
  }
 ],
 "metadata": {
  "kernelspec": {
   "display_name": "Python 3 (ipykernel)",
   "language": "python",
   "name": "python3"
  },
  "language_info": {
   "codemirror_mode": {
    "name": "ipython",
    "version": 3
   },
   "file_extension": ".py",
   "mimetype": "text/x-python",
   "name": "python",
   "nbconvert_exporter": "python",
   "pygments_lexer": "ipython3",
   "version": "3.8.5"
  }
 },
 "nbformat": 4,
 "nbformat_minor": 5
}
