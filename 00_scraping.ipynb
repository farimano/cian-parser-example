{
 "cells": [
  {
   "cell_type": "code",
   "execution_count": 1,
   "id": "e6469720-df4c-4c28-92c7-e55e39ec18d3",
   "metadata": {},
   "outputs": [],
   "source": [
    "from scraping import CianScraper\n",
    "from scraping import By\n",
    "\n",
    "import pandas as pd"
   ]
  },
  {
   "cell_type": "code",
   "execution_count": 2,
   "id": "146413f4-97c5-4ced-84c1-11f79ff92f34",
   "metadata": {},
   "outputs": [],
   "source": [
    "scraper = CianScraper()"
   ]
  },
  {
   "cell_type": "code",
   "execution_count": 3,
   "id": "4a00bf30-cf55-42e2-9b5d-ac78dc29fce6",
   "metadata": {},
   "outputs": [],
   "source": [
    "scraper.start('https://kaliningrad.cian.ru/kupit-kvartiru/')"
   ]
  },
  {
   "cell_type": "code",
   "execution_count": 4,
   "id": "25f5e6f2-ce7b-4f88-940b-975666069db0",
   "metadata": {},
   "outputs": [
    {
     "name": "stdout",
     "output_type": "stream",
     "text": [
      "3377\t/\t12888 (26.20%)\n",
      "Segment new_object-True, room_type-1 has been preprocessed!\n",
      "4837\t/\t12888 (37.53%)\n",
      "Segment new_object-False, room_type-1 has been preprocessed!\n",
      "8497\t/\t12888 (65.93%)\n",
      "Segment new_object-True, room_type-2 has been preprocessed!\n",
      "9953\t/\t12888 (77.23%)\n",
      "Segment new_object-False, room_type-2 has been preprocessed!\n",
      "11369\t/\t12888 (88.21%)\n",
      "Segment new_object-True, room_type-3 has been preprocessed!\n",
      "12360\t/\t12888 (95.90%)\n",
      "Segment new_object-False, room_type-3 has been preprocessed!\n",
      "12432\t/\t12888 (96.46%)\n",
      "Segment new_object-True, room_type-4 has been preprocessed!\n",
      "12612\t/\t12888 (97.86%)\n",
      "Segment new_object-False, room_type-4 has been preprocessed!\n",
      "12616\t/\t12888 (97.89%)\n",
      "Segment new_object-True, room_type-5 has been preprocessed!\n",
      "12675\t/\t12888 (98.35%)\n",
      "Segment new_object-False, room_type-5 has been preprocessed!\n",
      "12678\t/\t12888 (98.37%)\n",
      "Segment new_object-True, room_type-6 has been preprocessed!\n",
      "12693\t/\t12888 (98.49%)\n",
      "Segment new_object-False, room_type-6 has been preprocessed!\n",
      "12695\t/\t12888 (98.50%)\n",
      "Segment new_object-True, room_type-7 has been preprocessed!\n",
      "12703\t/\t12888 (98.56%)\n",
      "Segment new_object-False, room_type-7 has been preprocessed!\n",
      "12743\t/\t12888 (98.87%)\n",
      "Segment new_object-True, room_type-9 has been preprocessed!\n",
      "12784\t/\t12888 (99.19%)\n",
      "Segment new_object-False, room_type-9 has been preprocessed!\n",
      "The process has been completed!\n"
     ]
    }
   ],
   "source": [
    "data = scraper.collect_data()"
   ]
  },
  {
   "cell_type": "markdown",
   "id": "320a5624-8839-41d5-bf6f-3860fc5e1f5e",
   "metadata": {},
   "source": [
    "10636"
   ]
  },
  {
   "cell_type": "code",
   "execution_count": 5,
   "id": "ba393ab5-b76e-416d-b7a0-1d9a3898c500",
   "metadata": {},
   "outputs": [],
   "source": [
    "df = pd.DataFrame(data)"
   ]
  },
  {
   "cell_type": "code",
   "execution_count": 6,
   "id": "af497459-d953-4c95-90d2-3f396b07ec37",
   "metadata": {},
   "outputs": [
    {
     "data": {
      "text/plain": [
       "11754"
      ]
     },
     "execution_count": 6,
     "metadata": {},
     "output_type": "execute_result"
    }
   ],
   "source": [
    "df['link'].nunique()"
   ]
  },
  {
   "cell_type": "code",
   "execution_count": 7,
   "id": "f1eb6bbc-3d50-49ec-8e80-707c1b4e3f3a",
   "metadata": {},
   "outputs": [],
   "source": [
    "df.to_csv('output/cian_data.csv', index=False)"
   ]
  }
 ],
 "metadata": {
  "kernelspec": {
   "display_name": "Python 3 (ipykernel)",
   "language": "python",
   "name": "python3"
  },
  "language_info": {
   "codemirror_mode": {
    "name": "ipython",
    "version": 3
   },
   "file_extension": ".py",
   "mimetype": "text/x-python",
   "name": "python",
   "nbconvert_exporter": "python",
   "pygments_lexer": "ipython3",
   "version": "3.8.5"
  }
 },
 "nbformat": 4,
 "nbformat_minor": 5
}
