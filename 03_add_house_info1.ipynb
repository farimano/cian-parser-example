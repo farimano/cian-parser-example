{
 "cells": [
  {
   "cell_type": "markdown",
   "id": "f7e061b1-52fb-47e0-ade2-a9df0647e082",
   "metadata": {},
   "source": [
    "# 0. Import, Loading and first Preprocessing"
   ]
  },
  {
   "cell_type": "code",
   "execution_count": 1,
   "id": "c1da9a40-b0ca-4629-9e82-9df855a534a8",
   "metadata": {},
   "outputs": [],
   "source": [
    "import pandas as pd\n",
    "import numpy as np"
   ]
  },
  {
   "cell_type": "code",
   "execution_count": 2,
   "id": "40c41a79-aa88-47f9-b0e0-f6ed9907ba39",
   "metadata": {},
   "outputs": [],
   "source": [
    "pd.set_option('display.max_columns', None)"
   ]
  },
  {
   "cell_type": "code",
   "execution_count": 4,
   "id": "82ee95e6-c5ef-4136-8e81-d4424a2a9956",
   "metadata": {},
   "outputs": [],
   "source": [
    "df = pd.read_csv('output/geofeatures_df.csv')"
   ]
  },
  {
   "cell_type": "code",
   "execution_count": 5,
   "id": "92b82ee3-f62b-4f52-994d-4849bdce3bd7",
   "metadata": {},
   "outputs": [],
   "source": [
    "df['street'] = df['street'].map(lambda x: x.split(', ')[-1] if ((not pd.isna(x)) and (',' in x))else x)"
   ]
  },
  {
   "cell_type": "code",
   "execution_count": 6,
   "id": "09d4850b-ded6-48d0-92e3-0a490184e84f",
   "metadata": {},
   "outputs": [],
   "source": [
    "first = pd.read_csv('features/export-kr1_1-39-20221101.csv', sep=';')"
   ]
  },
  {
   "cell_type": "code",
   "execution_count": 7,
   "id": "78b463fd-229e-4a6d-9fd1-24c21f3107f9",
   "metadata": {},
   "outputs": [],
   "source": [
    "first_columns = [\n",
    "    'mun_obr_oktmo',\n",
    "    'mun_obr',\n",
    "    'mkd_code',\n",
    "    'houseguid',\n",
    "    # 'address',\n",
    "    'commission_year',\n",
    "    'architectural_monument_status',\n",
    "    'architectural_monument_category_id',\n",
    "    'total_sq',\n",
    "    'overhaul_fee_sq',\n",
    "    'total_rooms_amount',\n",
    "    'living_rooms_amount',\n",
    "    'living_rooms_with_nonresidental_amount',\n",
    "    'total_rooms_sq',\n",
    "    'living_rooms_sq',\n",
    "    'living_rooms_with_nonresidental_sq',\n",
    "    'total_ppl',\n",
    "    'number_floors_max',\n",
    "    'number_floors_min',\n",
    "    'money_collecting_way',\n",
    "    'money_collecting_way_date_decision',\n",
    "    'bank_bik',\n",
    "    'money_ppl_collected',\n",
    "    'loan_balance',\n",
    "    'money_ppl_collected_debts',\n",
    "    'overhaul_funds_spent_all',\n",
    "    'overhaul_funds_spent_subsidy',\n",
    "    'overhaul_fund_spent_other',\n",
    "    'overhaul_funds_balance',\n",
    "    'update_date_of_information',\n",
    "    'money_ppl_collected_date',\n",
    "    'owners_payment',\n",
    "    'energy_efficiency',\n",
    "    'previous_energy_efficiency',\n",
    "    'energy_audit_date',\n",
    "    'is_change_energy_efficiency',\n",
    "    'alarm_document_date',\n",
    "    'exclude_date_from_program',\n",
    "    'reason_of_exclude_from_program_id',\n",
    "    'inclusion_date_to_program',\n",
    "    'comment',\n",
    "    'last_update',\n",
    "    'house_id',\n",
    "]"
   ]
  },
  {
   "cell_type": "code",
   "execution_count": 8,
   "id": "d7f1518c-084d-42cc-b409-d5535ec65c27",
   "metadata": {},
   "outputs": [],
   "source": [
    "def preprocess_first_dataset(row):\n",
    "    row_list = row['address'].split(', ')\n",
    "    add_dict = {}\n",
    "    \n",
    "    for elem in row_list:\n",
    "        if elem.startswith('г. '):\n",
    "            add_dict['city'] = elem[3:]\n",
    "        elif [1 for i in ['ул.', 'пер.', 'б-р', 'наб.', 'пр-кт', 'ш.', 'пл.', 'аллея', 'проезд'] if i in elem]:\n",
    "            add_dict['street'] = elem\n",
    "        elif 'д.' in elem:\n",
    "            add_dict['house_number'] = elem\n",
    "        elif [1 for i in ['п.', 'пгт.'] if i in elem]:\n",
    "            add_dict['settlement'] = elem\n",
    "        elif 'ГО' in elem:\n",
    "            add_dict['okrug'] = elem\n",
    "        elif 'тер.' in elem:\n",
    "            add_dict['territory'] = elem\n",
    "        elif [1 for i in ['ж/д_ст', 'ст.'] if i in elem]:\n",
    "            add_dict['station'] = elem\n",
    "        else:\n",
    "            add_dict['house_number'] = elem\n",
    "    return pd.Series(add_dict)"
   ]
  },
  {
   "cell_type": "code",
   "execution_count": 9,
   "id": "7df4f098-0efe-4074-b5e0-a873291d6f04",
   "metadata": {},
   "outputs": [],
   "source": [
    "first = first.join(first.apply(preprocess_first_dataset, axis=1))"
   ]
  },
  {
   "cell_type": "markdown",
   "id": "0deb52ca-65e3-401a-afde-88861c767f06",
   "metadata": {},
   "source": [
    "# 1. Settlement Preprocessing"
   ]
  },
  {
   "cell_type": "code",
   "execution_count": 10,
   "id": "e13564b4-ff52-4cce-a7ae-a66565b1313d",
   "metadata": {},
   "outputs": [],
   "source": [
    "first['settlement'] = first['settlement'].map(lambda x: x.split('п. ')[-1].split(' (')[0] if not pd.isna(x) else x)"
   ]
  },
  {
   "cell_type": "markdown",
   "id": "6c62076d-addb-4fbf-a90a-a6f57a07d062",
   "metadata": {},
   "source": [
    "# 2. Street Preprocessing"
   ]
  },
  {
   "cell_type": "code",
   "execution_count": 11,
   "id": "b59c342a-4d38-4217-bf37-a09cebd21aaf",
   "metadata": {},
   "outputs": [],
   "source": [
    "def preprocess_df_street(street):\n",
    "    if pd.isna(street):\n",
    "        return street\n",
    "    street_names = ['улица', 'переулок', 'бульвар', 'набережная', 'проезд', 'площадь', 'аллея', 'шоссе', 'проспект', 'тупик']\n",
    "    num_endings = ['-я', '-й']\n",
    "    endings = ['ая', 'ое', 'ий', 'ый', 'яя', 'ой']\n",
    "    exclude_endings = ['знаний', 'московское', *street_names]\n",
    "    \n",
    "    if  [1 for ending in num_endings if ending in street]:\n",
    "        street_list = street.split()\n",
    "        for elem in street_list:\n",
    "            if elem in street_names:\n",
    "                street_name = elem\n",
    "            elif [1 for ending in num_endings if ending in elem]:\n",
    "                numer = elem\n",
    "            else:\n",
    "                remnant = elem\n",
    "        street = \" \".join([numer, remnant, street_name])\n",
    "    elif [1 for street_part in street.split() if (street_part[-2:] in endings) and not (street_part.lower() in exclude_endings)]:\n",
    "        street_list = street.split()\n",
    "        for elem in street_list:\n",
    "            if elem in street_names:\n",
    "                street_name = elem\n",
    "            else:\n",
    "                remnant = elem\n",
    "        try:\n",
    "            street = \" \".join([remnant, street_name])\n",
    "        except:\n",
    "            print(street)\n",
    "            raise\n",
    "    return street\n",
    "\n",
    "def preprocess_first_street(street):\n",
    "    if pd.isna(street):\n",
    "        return street\n",
    "    street = (\n",
    "        street\n",
    "        .replace('ул.', 'улица')\n",
    "        .replace('пер.', 'переулок')\n",
    "        .replace('б-р', 'бульвар')\n",
    "        .replace('наб.', 'набережная')\n",
    "        .replace('пл.', 'площадь')\n",
    "        .replace('ш.', 'шоссе')\n",
    "        .replace('пр-кт', 'проспект')\n",
    "        .replace(\"проспект.\", 'проспект')\n",
    "        .replace(\"аллея.\", \"аллея\")\n",
    "    )\n",
    "    street = preprocess_df_street(street)\n",
    "    \n",
    "    replace_dict = {\n",
    "        \"Тенистая аллея\": \"Тенистая улица\",\n",
    "        \"улица 9 Апреля\": \"улица 9-го Апреля\",\n",
    "        \"улица В. Талалихина\": \"улица Виктора Талалихина\",\n",
    "        \"улица Д. Давыдова\": \"улица Давыдова\",\n",
    "        \"улица Капитана Захарова\": \"улица Захарова\",\n",
    "        \"улица Л.Толстого\": \"улица Льва Толстого\",\n",
    "        \"улица младшего лейтенанта Ротко\": \"улица Младшего лейтенанта Ротко\",\n",
    "        \"улица Памяти павших в Афганистане\": \"улица Памяти Павших в Афганистане\",\n",
    "        \"улица Р.Люксембург\": \"улица Розы Люксембург\",\n",
    "        \"улица С.Тюленина\": \"улица Сергея Тюленина\",\n",
    "    }\n",
    "    street = replace_dict.get(street, street)\n",
    "    return street"
   ]
  },
  {
   "cell_type": "code",
   "execution_count": 12,
   "id": "73692935-5f31-49f5-9972-4d2db9bc0b1a",
   "metadata": {},
   "outputs": [],
   "source": [
    "df['street'] = df['street'].map(preprocess_df_street)"
   ]
  },
  {
   "cell_type": "code",
   "execution_count": 13,
   "id": "bd459576-4e21-4ff2-ba8c-72f12719b51f",
   "metadata": {},
   "outputs": [],
   "source": [
    "df_slice = df[[\n",
    "    'city',\n",
    "    # 'district',\n",
    "    'settlement',\n",
    "    # 'microdistrict',\n",
    "    'street',\n",
    "    'house_number',\n",
    "    # 'complex',\n",
    "    # 'corpus',\n",
    "    # 'partnership',\n",
    "    # 'station'\n",
    "]]"
   ]
  },
  {
   "cell_type": "code",
   "execution_count": 14,
   "id": "fc3edac7-1a21-44d6-9960-fffab3f808cd",
   "metadata": {},
   "outputs": [],
   "source": [
    "first['street'] = first['street'].map(preprocess_first_street)"
   ]
  },
  {
   "cell_type": "code",
   "execution_count": 15,
   "id": "f7b4da14-5cee-4955-b565-10b18d0351c2",
   "metadata": {},
   "outputs": [
    {
     "data": {
      "text/plain": [
       "474"
      ]
     },
     "execution_count": 15,
     "metadata": {},
     "output_type": "execute_result"
    }
   ],
   "source": [
    "set(df_slice['street'].unique()).__len__()"
   ]
  },
  {
   "cell_type": "code",
   "execution_count": 16,
   "id": "923462e0-9c07-4f56-8e7e-e3264af86d77",
   "metadata": {},
   "outputs": [],
   "source": [
    "old_unfound_streets = {\n",
    "    '1-й Октябрьский проезд',\n",
    "    'Белорусская улица',\n",
    "    'Букетная улица',\n",
    "    'Взводная улица',\n",
    "    'Жасминовая улица',\n",
    "    'Иркутская улица',\n",
    "    'Ключевая улица',\n",
    "    'Крейсерская улица',\n",
    "    'Московское',\n",
    "    'Нефтяная улица',\n",
    "    'Палубный переулок',\n",
    "    'Полукольцо улица',\n",
    "    'Старосаперная улица',\n",
    "    'Таганрогская улица',\n",
    "    'Тихорецкий тупик',\n",
    "    'Украинская улица',\n",
    "    'Флагманская улица',\n",
    "    'переулок Ладушкина',\n",
    "    'переулок Мира',\n",
    "    'улица Генерала Хохлова',\n",
    "    'улица Героя России Виталия Мариенко',\n",
    "    'улица Михаила Светлова',\n",
    "    'улица Поленова',\n",
    "    'улица Румянцева',\n",
    "    'улица Сергея Тюленина'\n",
    "}"
   ]
  },
  {
   "cell_type": "code",
   "execution_count": 17,
   "id": "de55c03f-3349-4e89-9002-24fbccccbf0f",
   "metadata": {},
   "outputs": [],
   "source": [
    "unfound_streets = sorted(list(\n",
    "    set(df_slice['street'].unique())\n",
    "    .difference(set(first['street'].unique()))\n",
    "    .difference(old_unfound_streets)\n",
    "))"
   ]
  },
  {
   "cell_type": "code",
   "execution_count": 18,
   "id": "867b51e5-e8a2-446e-923c-2df80e157be4",
   "metadata": {},
   "outputs": [
    {
     "data": {
      "text/plain": [
       "[]"
      ]
     },
     "execution_count": 18,
     "metadata": {},
     "output_type": "execute_result"
    }
   ],
   "source": [
    "unfound_streets"
   ]
  },
  {
   "cell_type": "markdown",
   "id": "95b16531-4c5f-4172-a9b6-f16b284c2346",
   "metadata": {},
   "source": [
    "# 3. House Number Preprocessing"
   ]
  },
  {
   "cell_type": "code",
   "execution_count": 19,
   "id": "0d81eac5-3886-4f36-a42d-ac3bab2d8099",
   "metadata": {},
   "outputs": [],
   "source": [
    "first['house_number'] = first['house_number'].map(lambda x: x.replace(\"д. \", \"\") if not pd.isna(x) else x)"
   ]
  },
  {
   "cell_type": "code",
   "execution_count": 20,
   "id": "9977a1fe-d734-4ef6-86ef-fb9c7b47ee99",
   "metadata": {},
   "outputs": [
    {
     "data": {
      "text/plain": [
       "393"
      ]
     },
     "execution_count": 20,
     "metadata": {},
     "output_type": "execute_result"
    }
   ],
   "source": [
    "len(df_slice['house_number'].unique())"
   ]
  },
  {
   "cell_type": "code",
   "execution_count": 21,
   "id": "4ef4ac8f-8e0b-4fb1-840c-bf07e0e4a198",
   "metadata": {},
   "outputs": [],
   "source": [
    "unfound_house = sorted(list(\n",
    "    set(df_slice['house_number'].unique())\n",
    "    .difference(set(first['house_number'].unique()))\n",
    "))"
   ]
  },
  {
   "cell_type": "code",
   "execution_count": 22,
   "id": "24752f8c-efb2-4b4a-aa8b-9ba78dd5c9c6",
   "metadata": {},
   "outputs": [
    {
     "data": {
      "text/plain": [
       "34"
      ]
     },
     "execution_count": 22,
     "metadata": {},
     "output_type": "execute_result"
    }
   ],
   "source": [
    "unfound_house.__len__()"
   ]
  },
  {
   "cell_type": "markdown",
   "id": "0e1ff435-3eca-46fc-b14d-cd6ea843cbcb",
   "metadata": {
    "tags": []
   },
   "source": [
    "# 4. Join"
   ]
  },
  {
   "cell_type": "code",
   "execution_count": 23,
   "id": "dced92bc-26a3-410f-b636-2e8607402e79",
   "metadata": {},
   "outputs": [],
   "source": [
    "STR_DIGITS = [str(i) for i in range(10)]"
   ]
  },
  {
   "cell_type": "code",
   "execution_count": 24,
   "id": "5d4faa92-90ef-4496-b04c-642638818572",
   "metadata": {},
   "outputs": [],
   "source": [
    "def filter_number(string):\n",
    "    str_number = \"\".join(filter(lambda x: x in STR_DIGITS, string.split('/')[0]))\n",
    "    if str_number:\n",
    "        return int(str_number)\n",
    "    else:\n",
    "        return None\n",
    "\n",
    "def filter_number_list(string):\n",
    "    return list(filter(lambda x: not(x is None), map(filter_number, string.replace('_', '-').split('-'))))"
   ]
  },
  {
   "cell_type": "code",
   "execution_count": 25,
   "id": "3344ad05-b44e-4568-a14c-154d53e63035",
   "metadata": {},
   "outputs": [],
   "source": [
    "def get_first_info(row):\n",
    "    city, settlement, street, house_number = row[['city', 'settlement', 'street', 'house_number']]\n",
    "    \n",
    "    street_records = first[((first['city'] == city)|(first['settlement'] == settlement))&(first['street']==street)]\n",
    "    first_house_number = street_records['house_number'].unique().tolist()\n",
    "    \n",
    "    n_rows = street_records.shape[0]\n",
    "    \n",
    "    if not n_rows:\n",
    "        return\n",
    "    \n",
    "    if pd.isna(house_number):  \n",
    "        second_info = (\n",
    "            street_records[first_columns]\n",
    "            .apply(func=lambda x: x.tolist, axis=0)\n",
    "            .map(lambda x: x())\n",
    "        )\n",
    "    elif house_number in first_house_number:\n",
    "        second_info = (\n",
    "            street_records[street_records['house_number']==house_number][first_columns]\n",
    "            .apply(func=lambda x: x.tolist, axis=0)\n",
    "            .map(lambda x: x())\n",
    "        )\n",
    "    else:\n",
    "        house_number = filter_number(house_number)\n",
    "        map_numbers = list(map(\n",
    "            filter_number_list, \n",
    "            first_house_number\n",
    "        ))\n",
    "        sort_map_numbers = sorted(enumerate(map_numbers), key=lambda x: min(x[1]))\n",
    "        \n",
    "        sim_idx = sort_map_numbers[-1][0]\n",
    "        prev_idx = sort_map_numbers[0][0]\n",
    "        for num, map_nums in sort_map_numbers:\n",
    "            if min(map_nums) <= house_number <= max(map_nums):\n",
    "                sim_idx = num\n",
    "                break\n",
    "            elif min(map_nums) > house_number:\n",
    "                sim_idx = prev_idx\n",
    "                break\n",
    "            prev_idx = num\n",
    "        house_number = first_house_number[prev_idx]\n",
    "        second_info = (\n",
    "            street_records[street_records['house_number']==house_number][first_columns]\n",
    "            .apply(func=lambda x: x.tolist, axis=0)\n",
    "            .map(lambda x: x())\n",
    "        )\n",
    "\n",
    "    return second_info"
   ]
  },
  {
   "cell_type": "code",
   "execution_count": 26,
   "id": "6421f757-eecb-4167-a466-fee6a53220f0",
   "metadata": {
    "tags": []
   },
   "outputs": [],
   "source": [
    "df_first_info = df.join(df.apply(\n",
    "    get_first_info,\n",
    "    axis=1\n",
    "))"
   ]
  },
  {
   "cell_type": "code",
   "execution_count": 27,
   "id": "a78c7e8b-c77a-4d15-a414-ca160e15660d",
   "metadata": {},
   "outputs": [
    {
     "data": {
      "text/plain": [
       "new_object\n",
       "False    0.032933\n",
       "True     0.462146\n",
       "Name: mkd_code, dtype: float64"
      ]
     },
     "execution_count": 27,
     "metadata": {},
     "output_type": "execute_result"
    }
   ],
   "source": [
    "df_first_info.groupby('new_object')['mkd_code'].apply(lambda x: x.isna().mean())"
   ]
  },
  {
   "cell_type": "code",
   "execution_count": 28,
   "id": "b5d00f44-cac4-4222-b457-a105a245e1df",
   "metadata": {},
   "outputs": [],
   "source": [
    "df_first_info.to_csv('output/df_house_info_1.csv', index=False)"
   ]
  }
 ],
 "metadata": {
  "kernelspec": {
   "display_name": "Python 3 (ipykernel)",
   "language": "python",
   "name": "python3"
  },
  "language_info": {
   "codemirror_mode": {
    "name": "ipython",
    "version": 3
   },
   "file_extension": ".py",
   "mimetype": "text/x-python",
   "name": "python",
   "nbconvert_exporter": "python",
   "pygments_lexer": "ipython3",
   "version": "3.8.5"
  }
 },
 "nbformat": 4,
 "nbformat_minor": 5
}
